{
 "cells": [
  {
   "cell_type": "code",
   "execution_count": 1,
   "id": "72b094a4",
   "metadata": {},
   "outputs": [],
   "source": [
    "import numpy as np\n",
    "import math"
   ]
  },
  {
   "cell_type": "code",
   "execution_count": 2,
   "id": "3263a504",
   "metadata": {},
   "outputs": [],
   "source": [
    "def stringit(a):\n",
    "    if (type(a)== str):\n",
    "        while (type(a)==str):\n",
    "            a=int(a)\n",
    "    else:\n",
    "        print(\"le nb n'est pas un string\")\n",
    "    return a\n",
    "#stringit('10')"
   ]
  },
  {
   "cell_type": "code",
   "execution_count": 3,
   "id": "fab70841",
   "metadata": {},
   "outputs": [],
   "source": [
    "def complexit(a):\n",
    "    if (type(a))==complex:\n",
    "        while (type(a)== complex):\n",
    "            a=a.real\n",
    "    else:\n",
    "        print('le nb nest pas complex')\n",
    "    return a\n",
    "#complexit(1+2j)"
   ]
  },
  {
   "cell_type": "code",
   "execution_count": 4,
   "id": "be9d052b",
   "metadata": {},
   "outputs": [],
   "source": [
    "def negateit(a):\n",
    "    if a < 0:\n",
    "        while(a<0):\n",
    "            a=abs(a)\n",
    "    else:\n",
    "        print('le nb nest pas negatif')\n",
    "    return a\n",
    "#negateit(-3)"
   ]
  },
  {
   "cell_type": "code",
   "execution_count": 5,
   "id": "0d6129b3",
   "metadata": {},
   "outputs": [],
   "source": [
    "def too_long(a):\n",
    "    if len(str(a)) > 16:\n",
    "        while len(str(a)) > 16:\n",
    "            print('le nb est trop grd, entrez un plus petit nombre svp!')\n",
    "            a=int(input())\n",
    "    else:\n",
    "        pass\n",
    "    return a"
   ]
  },
  {
   "cell_type": "code",
   "execution_count": 6,
   "id": "3de8594d",
   "metadata": {},
   "outputs": [],
   "source": [
    "def too_smallit(a):\n",
    "    if a < 0.01:\n",
    "        while a < 0.01:\n",
    "            print('le nb est bcp trop petit, veuillez saisir un autre svp!')\n",
    "            a=int(input())\n",
    "    else:\n",
    "        pass\n",
    "    return a"
   ]
  },
  {
   "cell_type": "code",
   "execution_count": 7,
   "id": "82ddaded",
   "metadata": {},
   "outputs": [],
   "source": [
    "def fibo(n):\n",
    "    if (type(n)==complex):\n",
    "            n=complexit(n)\n",
    "    elif (type(n)==str):\n",
    "            n=stringit(n)\n",
    "    elif len(n)> 16:\n",
    "            n=too_long(n)\n",
    "    elif n<0:\n",
    "            n=negateit(n)\n",
    "    else:\n",
    "            n=too_small_it(n)\n",
    "    x=0\n",
    "    y=1\n",
    "    while x <n:\n",
    "        print(x)\n",
    "        x, y=y, x+y"
   ]
  },
  {
   "cell_type": "code",
   "execution_count": 8,
   "id": "d95d8874",
   "metadata": {},
   "outputs": [
    {
     "name": "stdout",
     "output_type": "stream",
     "text": [
      "0\n",
      "1\n",
      "1\n",
      "2\n",
      "3\n",
      "5\n",
      "8\n",
      "13\n",
      "21\n",
      "34\n",
      "55\n",
      "89\n"
     ]
    }
   ],
   "source": [
    "fibo('123')"
   ]
  },
  {
   "cell_type": "code",
   "execution_count": 10,
   "id": "22e31bf3",
   "metadata": {},
   "outputs": [
    {
     "ename": "TypeError",
     "evalue": "object of type 'int' has no len()",
     "output_type": "error",
     "traceback": [
      "\u001b[1;31m---------------------------------------------------------------------------\u001b[0m",
      "\u001b[1;31mTypeError\u001b[0m                                 Traceback (most recent call last)",
      "\u001b[1;32mC:\\Users\\AF596~1.MBA\\AppData\\Local\\Temp/ipykernel_15216/654329099.py\u001b[0m in \u001b[0;36m<module>\u001b[1;34m\u001b[0m\n\u001b[1;32m----> 1\u001b[1;33m \u001b[0mfibo\u001b[0m\u001b[1;33m(\u001b[0m\u001b[1;36m2\u001b[0m\u001b[1;33m)\u001b[0m\u001b[1;33m\u001b[0m\u001b[1;33m\u001b[0m\u001b[0m\n\u001b[0m",
      "\u001b[1;32mC:\\Users\\AF596~1.MBA\\AppData\\Local\\Temp/ipykernel_15216/928392593.py\u001b[0m in \u001b[0;36mfibo\u001b[1;34m(n)\u001b[0m\n\u001b[0;32m      4\u001b[0m     \u001b[1;32melif\u001b[0m \u001b[1;33m(\u001b[0m\u001b[0mtype\u001b[0m\u001b[1;33m(\u001b[0m\u001b[0mn\u001b[0m\u001b[1;33m)\u001b[0m\u001b[1;33m==\u001b[0m\u001b[0mstr\u001b[0m\u001b[1;33m)\u001b[0m\u001b[1;33m:\u001b[0m\u001b[1;33m\u001b[0m\u001b[1;33m\u001b[0m\u001b[0m\n\u001b[0;32m      5\u001b[0m             \u001b[0mn\u001b[0m\u001b[1;33m=\u001b[0m\u001b[0mstringit\u001b[0m\u001b[1;33m(\u001b[0m\u001b[0mn\u001b[0m\u001b[1;33m)\u001b[0m\u001b[1;33m\u001b[0m\u001b[1;33m\u001b[0m\u001b[0m\n\u001b[1;32m----> 6\u001b[1;33m     \u001b[1;32melif\u001b[0m \u001b[0mlen\u001b[0m\u001b[1;33m(\u001b[0m\u001b[0mn\u001b[0m\u001b[1;33m)\u001b[0m\u001b[1;33m>\u001b[0m \u001b[1;36m16\u001b[0m\u001b[1;33m:\u001b[0m\u001b[1;33m\u001b[0m\u001b[1;33m\u001b[0m\u001b[0m\n\u001b[0m\u001b[0;32m      7\u001b[0m             \u001b[0mn\u001b[0m\u001b[1;33m=\u001b[0m\u001b[0mtoo_long\u001b[0m\u001b[1;33m(\u001b[0m\u001b[0mn\u001b[0m\u001b[1;33m)\u001b[0m\u001b[1;33m\u001b[0m\u001b[1;33m\u001b[0m\u001b[0m\n\u001b[0;32m      8\u001b[0m     \u001b[1;32melif\u001b[0m \u001b[0mn\u001b[0m\u001b[1;33m<\u001b[0m\u001b[1;36m0\u001b[0m\u001b[1;33m:\u001b[0m\u001b[1;33m\u001b[0m\u001b[1;33m\u001b[0m\u001b[0m\n",
      "\u001b[1;31mTypeError\u001b[0m: object of type 'int' has no len()"
     ]
    }
   ],
   "source": [
    "fibo(2)"
   ]
  },
  {
   "cell_type": "code",
   "execution_count": 17,
   "id": "9ae96ece",
   "metadata": {},
   "outputs": [
    {
     "data": {
      "text/plain": [
       "'\"\\nfrom math import *\\n\\n    \\ndef fibo(a):\\n    \\n    \\n    \\n    if (type(a) == str):\\n        print (\" Il est impossible de saisir une chaine de caractére\")\\n        print (\" veuillez saisir des valeurs numérique\")\\n        while (type(a)== str):\\n            a = int(input(\\'Entrez une valeur numérique pour a =\\'))\\n    elif (type(a) == complex): \\n        print (\" Nous ne pouvons pas choiri un nombre complexe\")\\n        while (type(a) == complex) : \\n            \\n            a = int(input(\" Veuillez saisir un nombre numérique pour a\"))\\n    elif (a < 0):\\n        print (\" nous ne pouvons pas choisir un numéro négatif\")\\n        while (a<0):\\n            a = int(input(\"veuillez entrer un nombre positif pour a \")\\n    else (len(str(a)) > 10):\\n        print (\" Nous ne pouvons pas choisir un nombre trop grand\")\\n\\n        while len(str(a) > 10):\\n            a = int(input(\"LA valeur que vous avez tapez est supérieur à 10 unités\"))\\n\\n    c = sqrt(a ** 2)\\n    \\n\\n    return c\\n'"
      ]
     },
     "execution_count": 17,
     "metadata": {},
     "output_type": "execute_result"
    }
   ],
   "source": [
    "\"\"\"\"\n",
    "from math import *\n",
    "\n",
    "    \n",
    "def fibo(a):\n",
    "    \n",
    "    \n",
    "    \n",
    "    if (type(a) == str):\n",
    "        print (\" Il est impossible de saisir une chaine de caractére\")\n",
    "        print (\" veuillez saisir des valeurs numérique\")\n",
    "        while (type(a)== str):\n",
    "            a = int(input('Entrez une valeur numérique pour a ='))\n",
    "    elif (type(a) == complex): \n",
    "        print (\" Nous ne pouvons pas choiri un nombre complexe\")\n",
    "        while (type(a) == complex) : \n",
    "            \n",
    "            a = int(input(\" Veuillez saisir un nombre numérique pour a\"))\n",
    "    elif (a < 0):\n",
    "        print (\" nous ne pouvons pas choisir un numéro négatif\")\n",
    "        while (a<0):\n",
    "            a = int(input(\"veuillez entrer un nombre positif pour a \")\n",
    "    else (len(str(a)) > 10):\n",
    "        print (\" Nous ne pouvons pas choisir un nombre trop grand\")\n",
    "\n",
    "        while len(str(a) > 10):\n",
    "            a = int(input(\"LA valeur que vous avez tapez est supérieur à 10 unités\"))\n",
    "\n",
    "    c = sqrt(a ** 2)\n",
    "    \n",
    "\n",
    "    return c\n",
    "\"\"\""
   ]
  },
  {
   "cell_type": "code",
   "execution_count": null,
   "id": "1d53af1e",
   "metadata": {},
   "outputs": [],
   "source": []
  }
 ],
 "metadata": {
  "kernelspec": {
   "display_name": "Python 3 (ipykernel)",
   "language": "python",
   "name": "python3"
  },
  "language_info": {
   "codemirror_mode": {
    "name": "ipython",
    "version": 3
   },
   "file_extension": ".py",
   "mimetype": "text/x-python",
   "name": "python",
   "nbconvert_exporter": "python",
   "pygments_lexer": "ipython3",
   "version": "3.8.10"
  }
 },
 "nbformat": 4,
 "nbformat_minor": 5
}
