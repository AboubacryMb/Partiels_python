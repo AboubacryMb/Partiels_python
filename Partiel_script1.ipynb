{
 "cells": [
  {
   "cell_type": "code",
   "execution_count": 1,
   "id": "5d75219e",
   "metadata": {},
   "outputs": [],
   "source": [
    "import numpy as np\n",
    "import math\n",
    "import pandas as pd"
   ]
  },
  {
   "cell_type": "code",
   "execution_count": 2,
   "id": "457974bd",
   "metadata": {},
   "outputs": [],
   "source": [
    "#1.Creation de fonction mathematiques"
   ]
  },
  {
   "cell_type": "raw",
   "id": "73c7a3c9",
   "metadata": {},
   "source": [
    "# c°) implementer la suite fibonacci"
   ]
  },
  {
   "cell_type": "code",
   "execution_count": 5,
   "id": "0fabb4bc",
   "metadata": {},
   "outputs": [],
   "source": [
    "def fibo(n):\n",
    "    x=0\n",
    "    y=1\n",
    "    while x <n:\n",
    "        print(x)\n",
    "        x, y=y, x+y"
   ]
  },
  {
   "cell_type": "code",
   "execution_count": 6,
   "id": "6f5303ec",
   "metadata": {},
   "outputs": [
    {
     "name": "stdout",
     "output_type": "stream",
     "text": [
      "0\n",
      "1\n",
      "1\n",
      "2\n",
      "3\n",
      "5\n"
     ]
    }
   ],
   "source": [
    "fibo(6)"
   ]
  },
  {
   "cell_type": "raw",
   "id": "176f38c6",
   "metadata": {},
   "source": [
    "# b°) implementer la fonction factorielle"
   ]
  },
  {
   "cell_type": "code",
   "execution_count": 7,
   "id": "e5a1a116",
   "metadata": {},
   "outputs": [],
   "source": [
    "facto = lambda n: n* facto(n-1) if n!=0 else 1"
   ]
  },
  {
   "cell_type": "code",
   "execution_count": 8,
   "id": "9113facf",
   "metadata": {},
   "outputs": [
    {
     "data": {
      "text/plain": [
       "120"
      ]
     },
     "execution_count": 8,
     "metadata": {},
     "output_type": "execute_result"
    }
   ],
   "source": [
    "facto(5)"
   ]
  },
  {
   "cell_type": "raw",
   "id": "300b73b1",
   "metadata": {},
   "source": [
    "# a°) implementer la fonction polynomiale"
   ]
  },
  {
   "cell_type": "code",
   "execution_count": 10,
   "id": "d7893033",
   "metadata": {},
   "outputs": [],
   "source": [
    "f=lambda x: x**3 -(1.5)*x**2 -6*x + 5"
   ]
  },
  {
   "cell_type": "code",
   "execution_count": 11,
   "id": "763943fd",
   "metadata": {},
   "outputs": [
    {
     "data": {
      "text/plain": [
       "62.5"
      ]
     },
     "execution_count": 11,
     "metadata": {},
     "output_type": "execute_result"
    }
   ],
   "source": [
    "f(5)"
   ]
  },
  {
   "cell_type": "code",
   "execution_count": null,
   "id": "04fbb36c",
   "metadata": {},
   "outputs": [],
   "source": []
  }
 ],
 "metadata": {
  "kernelspec": {
   "display_name": "Python 3 (ipykernel)",
   "language": "python",
   "name": "python3"
  },
  "language_info": {
   "codemirror_mode": {
    "name": "ipython",
    "version": 3
   },
   "file_extension": ".py",
   "mimetype": "text/x-python",
   "name": "python",
   "nbconvert_exporter": "python",
   "pygments_lexer": "ipython3",
   "version": "3.8.10"
  }
 },
 "nbformat": 4,
 "nbformat_minor": 5
}
