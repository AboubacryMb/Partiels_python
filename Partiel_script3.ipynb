{
 "cells": [
  {
   "cell_type": "raw",
   "id": "29812c8e",
   "metadata": {},
   "source": [
    "##Implementation du modele de black and scholes"
   ]
  },
  {
   "cell_type": "code",
   "execution_count": 6,
   "id": "6a8bc9ad",
   "metadata": {},
   "outputs": [],
   "source": [
    "import math\n",
    "import numpy as np"
   ]
  },
  {
   "cell_type": "code",
   "execution_count": 3,
   "id": "85e96b9a",
   "metadata": {},
   "outputs": [],
   "source": [
    "S=200\n",
    "X=50\n",
    "t=2 \n",
    "r=0.7\n",
    "sigma=0.04"
   ]
  },
  {
   "cell_type": "code",
   "execution_count": 9,
   "id": "15f4cb51",
   "metadata": {},
   "outputs": [],
   "source": [
    "d1=lambda x: (np.log(S/X)+(r+sigma**2/2)*t)/(sigma*np.sqrt(t))"
   ]
  },
  {
   "cell_type": "code",
   "execution_count": 10,
   "id": "e5be54ad",
   "metadata": {},
   "outputs": [
    {
     "data": {
      "text/plain": [
       "49.2834751994903"
      ]
     },
     "execution_count": 10,
     "metadata": {},
     "output_type": "execute_result"
    }
   ],
   "source": [
    "d1(3)"
   ]
  },
  {
   "cell_type": "code",
   "execution_count": 16,
   "id": "30c7222f",
   "metadata": {},
   "outputs": [],
   "source": [
    "d2=lambda x:d1-sigma*np.sqrt(t)"
   ]
  },
  {
   "cell_type": "code",
   "execution_count": 19,
   "id": "8a633977",
   "metadata": {},
   "outputs": [],
   "source": [
    "## 2e methode pour le meme exo"
   ]
  },
  {
   "cell_type": "code",
   "execution_count": 17,
   "id": "4b475c93",
   "metadata": {},
   "outputs": [],
   "source": [
    "def modele1(s, x):\n",
    "    t=2\n",
    "    r=0.7\n",
    "    sigma=0.04\n",
    "    print('donner le prix')\n",
    "    s=input()\n",
    "    print('donner le prix exercice')\n",
    "    x=input()\n",
    "    d1=(np.log(S/X)+(r+sigma**2/2)*t)/(sigma*np.sqrt(t))\n",
    "    return d1"
   ]
  },
  {
   "cell_type": "code",
   "execution_count": 20,
   "id": "1617b41e",
   "metadata": {},
   "outputs": [
    {
     "name": "stdout",
     "output_type": "stream",
     "text": [
      "donner le prix\n",
      "12344\n",
      "donner le prix exercice\n",
      "235876\n"
     ]
    },
    {
     "data": {
      "text/plain": [
       "49.2834751994903"
      ]
     },
     "execution_count": 20,
     "metadata": {},
     "output_type": "execute_result"
    }
   ],
   "source": [
    "modele(20000, 4665)"
   ]
  },
  {
   "cell_type": "code",
   "execution_count": 21,
   "id": "3befddbd",
   "metadata": {},
   "outputs": [],
   "source": [
    "def modele2(d1):\n",
    "    return d1-sigma*np.sqrt(t)"
   ]
  },
  {
   "cell_type": "code",
   "execution_count": 22,
   "id": "217323b5",
   "metadata": {},
   "outputs": [
    {
     "data": {
      "text/plain": [
       "48.94343145750508"
      ]
     },
     "execution_count": 22,
     "metadata": {},
     "output_type": "execute_result"
    }
   ],
   "source": [
    "modele2(49.00)"
   ]
  },
  {
   "cell_type": "code",
   "execution_count": null,
   "id": "0982d2ec",
   "metadata": {},
   "outputs": [],
   "source": []
  }
 ],
 "metadata": {
  "kernelspec": {
   "display_name": "Python 3 (ipykernel)",
   "language": "python",
   "name": "python3"
  },
  "language_info": {
   "codemirror_mode": {
    "name": "ipython",
    "version": 3
   },
   "file_extension": ".py",
   "mimetype": "text/x-python",
   "name": "python",
   "nbconvert_exporter": "python",
   "pygments_lexer": "ipython3",
   "version": "3.8.10"
  }
 },
 "nbformat": 4,
 "nbformat_minor": 5
}
